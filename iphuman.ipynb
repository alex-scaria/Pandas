{
  "nbformat": 4,
  "nbformat_minor": 0,
  "metadata": {
    "colab": {
      "name": "iphuman.ipynb",
      "version": "0.3.2",
      "provenance": [],
      "include_colab_link": true
    },
    "kernelspec": {
      "name": "python3",
      "display_name": "Python 3"
    }
  },
  "cells": [
    {
      "cell_type": "markdown",
      "metadata": {
        "id": "view-in-github",
        "colab_type": "text"
      },
      "source": [
        "<a href=\"https://colab.research.google.com/github/alex-scaria/Pandas/blob/master/iphuman.ipynb\" target=\"_parent\"><img src=\"https://colab.research.google.com/assets/colab-badge.svg\" alt=\"Open In Colab\"/></a>"
      ]
    },
    {
      "cell_type": "code",
      "metadata": {
        "id": "sGdBUwKVv8Mn",
        "colab_type": "code",
        "colab": {}
      },
      "source": [
        "import tensorflow as tf\n",
        "from tensorflow import keras\n",
        "from keras.models import Sequential\n",
        "from keras.layers import Dense, Activation, Conv2D, MaxPool2D, Flatten\n",
        "from keras.optimizers import SGD\n",
        "from keras.layers.convolutional import Conv2D\n",
        "from keras.layers import Conv2D, MaxPooling2D, Embedding, Reshape, Concatenate, Dropout\n",
        "from keras.layers import ZeroPadding2D\n"
      ],
      "execution_count": 0,
      "outputs": []
    },
    {
      "cell_type": "code",
      "metadata": {
        "id": "HT2qCOtslZ0K",
        "colab_type": "code",
        "colab": {}
      },
      "source": [
        "model = Sequential()"
      ],
      "execution_count": 0,
      "outputs": []
    },
    {
      "cell_type": "code",
      "metadata": {
        "id": "ox5fljkAXw0v",
        "colab_type": "code",
        "colab": {}
      },
      "source": [
        "model.add(Conv2D(300, kernel_size=(3, 3), activation='relu', input_shape=(32,32,1),padding='same'))"
      ],
      "execution_count": 0,
      "outputs": []
    },
    {
      "cell_type": "code",
      "metadata": {
        "id": "xybC-Z_H7vbE",
        "colab_type": "code",
        "colab": {}
      },
      "source": [
        "#keras.layers.ZeroPadding2D(padding=(1,1))"
      ],
      "execution_count": 0,
      "outputs": []
    },
    {
      "cell_type": "code",
      "metadata": {
        "id": "9l6Tymx3X2-N",
        "colab_type": "code",
        "colab": {}
      },
      "source": [
        "model.add(MaxPooling2D(pool_size=(2, 2)))\n"
      ],
      "execution_count": 0,
      "outputs": []
    },
    {
      "cell_type": "code",
      "metadata": {
        "id": "nWxBN7y1lDRx",
        "colab_type": "code",
        "colab": {}
      },
      "source": [
        "model.add(Conv2D(250, (3, 3), activation='relu', padding='same'))\n"
      ],
      "execution_count": 0,
      "outputs": []
    },
    {
      "cell_type": "code",
      "metadata": {
        "id": "zTZyfZmm8WDW",
        "colab_type": "code",
        "outputId": "e5b46207-6a80-4364-ceb6-73d1feaff55c",
        "colab": {
          "base_uri": "https://localhost:8080/",
          "height": 34
        }
      },
      "source": [
        "#ZeroPadding2D(padding=(1,1))"
      ],
      "execution_count": 0,
      "outputs": [
        {
          "output_type": "execute_result",
          "data": {
            "text/plain": [
              "<keras.layers.convolutional.ZeroPadding2D at 0x7f6334b56320>"
            ]
          },
          "metadata": {
            "tags": []
          },
          "execution_count": 70
        }
      ]
    },
    {
      "cell_type": "code",
      "metadata": {
        "id": "FPhmwq9clOy8",
        "colab_type": "code",
        "colab": {}
      },
      "source": [
        "model.add(MaxPooling2D(pool_size=(2, 2)))\n"
      ],
      "execution_count": 0,
      "outputs": []
    },
    {
      "cell_type": "code",
      "metadata": {
        "id": "0fDFZ-hhleCt",
        "colab_type": "code",
        "colab": {}
      },
      "source": [
        "model.add(Conv2D(200, kernel_size=(3, 3), activation='relu', padding='same'))\n"
      ],
      "execution_count": 0,
      "outputs": []
    },
    {
      "cell_type": "code",
      "metadata": {
        "id": "op3KrqbV8YAI",
        "colab_type": "code",
        "outputId": "996c8af0-5a12-4d45-aa84-f80b52295c89",
        "colab": {
          "base_uri": "https://localhost:8080/",
          "height": 34
        }
      },
      "source": [
        "#ZeroPadding2D(padding=(1,1))"
      ],
      "execution_count": 0,
      "outputs": [
        {
          "output_type": "execute_result",
          "data": {
            "text/plain": [
              "<keras.layers.convolutional.ZeroPadding2D at 0x7f6321d5f748>"
            ]
          },
          "metadata": {
            "tags": []
          },
          "execution_count": 73
        }
      ]
    },
    {
      "cell_type": "code",
      "metadata": {
        "id": "KjNgKMp1lhyM",
        "colab_type": "code",
        "colab": {}
      },
      "source": [
        "model.add(Conv2D(150, kernel_size=(3, 3), activation='relu', padding='same'))\n"
      ],
      "execution_count": 0,
      "outputs": []
    },
    {
      "cell_type": "code",
      "metadata": {
        "id": "zBUkoXkQ8Zym",
        "colab_type": "code",
        "outputId": "1dc24cba-9eb1-43be-9b7c-40f7de500c52",
        "colab": {
          "base_uri": "https://localhost:8080/",
          "height": 34
        }
      },
      "source": [
        "#ZeroPadding2D(padding=(1,1))"
      ],
      "execution_count": 0,
      "outputs": [
        {
          "output_type": "execute_result",
          "data": {
            "text/plain": [
              "<keras.layers.convolutional.ZeroPadding2D at 0x7f631c58d7b8>"
            ]
          },
          "metadata": {
            "tags": []
          },
          "execution_count": 75
        }
      ]
    },
    {
      "cell_type": "code",
      "metadata": {
        "id": "Utd4vuNKll0C",
        "colab_type": "code",
        "colab": {}
      },
      "source": [
        "model.add(Conv2D(100, kernel_size=(3, 3), activation='relu',padding='same'))\n"
      ],
      "execution_count": 0,
      "outputs": []
    },
    {
      "cell_type": "code",
      "metadata": {
        "id": "Gljnyr928bF_",
        "colab_type": "code",
        "outputId": "e38124b2-0def-4fa6-af61-9cfa1ee27814",
        "colab": {
          "base_uri": "https://localhost:8080/",
          "height": 34
        }
      },
      "source": [
        "#ZeroPadding2D(padding=(1,1))"
      ],
      "execution_count": 0,
      "outputs": [
        {
          "output_type": "execute_result",
          "data": {
            "text/plain": [
              "<keras.layers.convolutional.ZeroPadding2D at 0x7f63352eb278>"
            ]
          },
          "metadata": {
            "tags": []
          },
          "execution_count": 19
        }
      ]
    },
    {
      "cell_type": "code",
      "metadata": {
        "id": "Dhdk6c6Klof9",
        "colab_type": "code",
        "colab": {}
      },
      "source": [
        "model.add(Flatten())\n"
      ],
      "execution_count": 0,
      "outputs": []
    },
    {
      "cell_type": "code",
      "metadata": {
        "id": "AOKf40iUlssy",
        "colab_type": "code",
        "colab": {}
      },
      "source": [
        "model.add(Dense(500, activation='relu'))"
      ],
      "execution_count": 0,
      "outputs": []
    },
    {
      "cell_type": "code",
      "metadata": {
        "id": "D1zAVSOhA13Q",
        "colab_type": "code",
        "colab": {}
      },
      "source": [
        "from keras import losses\n",
        "from keras import optimizers\n",
        "sgd = optimizers.SGD(lr=0.0003)\n",
        "\n",
        "model.compile(loss=losses.mean_squared_error, optimizer=sgd, metrics=['accuracy'])\n"
      ],
      "execution_count": 0,
      "outputs": []
    },
    {
      "cell_type": "code",
      "metadata": {
        "id": "4AJP-pqsAQ0-",
        "colab_type": "code",
        "outputId": "fd9b91b0-3c87-4e6b-a755-f854817d2a20",
        "colab": {
          "base_uri": "https://localhost:8080/",
          "height": 34
        }
      },
      "source": [
        "from google.colab import drive\n",
        "drive.mount('/content/drive')"
      ],
      "execution_count": 0,
      "outputs": [
        {
          "output_type": "stream",
          "text": [
            "Drive already mounted at /content/drive; to attempt to forcibly remount, call drive.mount(\"/content/drive\", force_remount=True).\n"
          ],
          "name": "stdout"
        }
      ]
    },
    {
      "cell_type": "code",
      "metadata": {
        "id": "51BzI2FPC0V-",
        "colab_type": "code",
        "colab": {}
      },
      "source": [
        "import pandas as pd\n",
        "import numpy as np\n",
        "\n",
        "df = pd.read_csv('/content/drive/My Drive/colab_data/training_human_32x32.csv')"
      ],
      "execution_count": 0,
      "outputs": []
    },
    {
      "cell_type": "code",
      "metadata": {
        "id": "nHhBLqjVFaGv",
        "colab_type": "code",
        "outputId": "1fb86b4f-064d-4ee6-f9ac-ae9e7e1b772e",
        "colab": {
          "base_uri": "https://localhost:8080/",
          "height": 289
        }
      },
      "source": [
        "df.head()\n",
        "\n"
      ],
      "execution_count": 0,
      "outputs": [
        {
          "output_type": "execute_result",
          "data": {
            "text/html": [
              "<div>\n",
              "<style scoped>\n",
              "    .dataframe tbody tr th:only-of-type {\n",
              "        vertical-align: middle;\n",
              "    }\n",
              "\n",
              "    .dataframe tbody tr th {\n",
              "        vertical-align: top;\n",
              "    }\n",
              "\n",
              "    .dataframe thead th {\n",
              "        text-align: right;\n",
              "    }\n",
              "</style>\n",
              "<table border=\"1\" class=\"dataframe\">\n",
              "  <thead>\n",
              "    <tr style=\"text-align: right;\">\n",
              "      <th></th>\n",
              "      <th>left_eye_center_x</th>\n",
              "      <th>left_eye_center_y</th>\n",
              "      <th>right_eye_center_x</th>\n",
              "      <th>right_eye_center_y</th>\n",
              "      <th>nose_tip_x</th>\n",
              "      <th>nose_tip_y</th>\n",
              "      <th>image</th>\n",
              "      <th>image_gt</th>\n",
              "    </tr>\n",
              "  </thead>\n",
              "  <tbody>\n",
              "    <tr>\n",
              "      <th>0</th>\n",
              "      <td>21</td>\n",
              "      <td>10</td>\n",
              "      <td>1</td>\n",
              "      <td>12</td>\n",
              "      <td>12</td>\n",
              "      <td>22</td>\n",
              "      <td>102 104 106 109 112 114 116 116 114 118 118 11...</td>\n",
              "      <td>0.0 0.0 0.0 0.0 0.0 0.0 0.0 0.0 0.0 0.0 0.0 0....</td>\n",
              "    </tr>\n",
              "    <tr>\n",
              "      <th>1</th>\n",
              "      <td>23</td>\n",
              "      <td>11</td>\n",
              "      <td>9</td>\n",
              "      <td>11</td>\n",
              "      <td>15</td>\n",
              "      <td>22</td>\n",
              "      <td>29 11 2 13 35 50 59 63 63 66 71 76 80 83 84 84...</td>\n",
              "      <td>0.0 0.0 0.0 0.0 0.0 0.0 0.0 0.0 0.0 0.0 0.0 0....</td>\n",
              "    </tr>\n",
              "    <tr>\n",
              "      <th>2</th>\n",
              "      <td>21</td>\n",
              "      <td>12</td>\n",
              "      <td>10</td>\n",
              "      <td>13</td>\n",
              "      <td>15</td>\n",
              "      <td>18</td>\n",
              "      <td>34 31 26 19 17 18 18 17 32 45 58 61 54 50 54 6...</td>\n",
              "      <td>0.0 0.0 0.0 0.0 0.0 0.0 0.0 0.0 0.0 0.0 0.0 0....</td>\n",
              "    </tr>\n",
              "    <tr>\n",
              "      <th>3</th>\n",
              "      <td>21</td>\n",
              "      <td>12</td>\n",
              "      <td>10</td>\n",
              "      <td>20</td>\n",
              "      <td>19</td>\n",
              "      <td>22</td>\n",
              "      <td>0 0 0 2 4 0 0 0 7 0 0 8 37 59 70 74 77 83 84 7...</td>\n",
              "      <td>0.0 0.0 0.0 0.0 0.0 0.0 0.0 0.0 0.0 0.0 0.0 0....</td>\n",
              "    </tr>\n",
              "    <tr>\n",
              "      <th>4</th>\n",
              "      <td>19</td>\n",
              "      <td>6</td>\n",
              "      <td>5</td>\n",
              "      <td>18</td>\n",
              "      <td>17</td>\n",
              "      <td>21</td>\n",
              "      <td>131 138 147 155 160 163 164 165 161 179 165 15...</td>\n",
              "      <td>0.0 0.0 0.0 0.0 0.0 0.0 0.0 0.0 0.0 0.0 0.0 0....</td>\n",
              "    </tr>\n",
              "  </tbody>\n",
              "</table>\n",
              "</div>"
            ],
            "text/plain": [
              "   left_eye_center_x  left_eye_center_y  right_eye_center_x  \\\n",
              "0                 21                 10                   1   \n",
              "1                 23                 11                   9   \n",
              "2                 21                 12                  10   \n",
              "3                 21                 12                  10   \n",
              "4                 19                  6                   5   \n",
              "\n",
              "   right_eye_center_y  nose_tip_x  nose_tip_y  \\\n",
              "0                  12          12          22   \n",
              "1                  11          15          22   \n",
              "2                  13          15          18   \n",
              "3                  20          19          22   \n",
              "4                  18          17          21   \n",
              "\n",
              "                                               image  \\\n",
              "0  102 104 106 109 112 114 116 116 114 118 118 11...   \n",
              "1  29 11 2 13 35 50 59 63 63 66 71 76 80 83 84 84...   \n",
              "2  34 31 26 19 17 18 18 17 32 45 58 61 54 50 54 6...   \n",
              "3  0 0 0 2 4 0 0 0 7 0 0 8 37 59 70 74 77 83 84 7...   \n",
              "4  131 138 147 155 160 163 164 165 161 179 165 15...   \n",
              "\n",
              "                                            image_gt  \n",
              "0  0.0 0.0 0.0 0.0 0.0 0.0 0.0 0.0 0.0 0.0 0.0 0....  \n",
              "1  0.0 0.0 0.0 0.0 0.0 0.0 0.0 0.0 0.0 0.0 0.0 0....  \n",
              "2  0.0 0.0 0.0 0.0 0.0 0.0 0.0 0.0 0.0 0.0 0.0 0....  \n",
              "3  0.0 0.0 0.0 0.0 0.0 0.0 0.0 0.0 0.0 0.0 0.0 0....  \n",
              "4  0.0 0.0 0.0 0.0 0.0 0.0 0.0 0.0 0.0 0.0 0.0 0....  "
            ]
          },
          "metadata": {
            "tags": []
          },
          "execution_count": 29
        }
      ]
    },
    {
      "cell_type": "code",
      "metadata": {
        "id": "T3Fy6jTpFft0",
        "colab_type": "code",
        "outputId": "3c5129f9-716d-4e14-c01f-637bd85b4185",
        "colab": {
          "base_uri": "https://localhost:8080/",
          "height": 68
        }
      },
      "source": [
        "df.columns\n"
      ],
      "execution_count": 0,
      "outputs": [
        {
          "output_type": "execute_result",
          "data": {
            "text/plain": [
              "Index(['left_eye_center_x', 'left_eye_center_y', 'right_eye_center_x',\n",
              "       'right_eye_center_y', 'nose_tip_x', 'nose_tip_y', 'image', 'image_gt'],\n",
              "      dtype='object')"
            ]
          },
          "metadata": {
            "tags": []
          },
          "execution_count": 35
        }
      ]
    },
    {
      "cell_type": "code",
      "metadata": {
        "id": "YE1ulg_hS66O",
        "colab_type": "code",
        "outputId": "19c8f3be-4a14-43a1-ff49-fe534c1f0d84",
        "colab": {
          "base_uri": "https://localhost:8080/",
          "height": 34
        }
      },
      "source": [
        "y.shape"
      ],
      "execution_count": 0,
      "outputs": [
        {
          "output_type": "execute_result",
          "data": {
            "text/plain": [
              "(8560, 3, 2)"
            ]
          },
          "metadata": {
            "tags": []
          },
          "execution_count": 210
        }
      ]
    },
    {
      "cell_type": "code",
      "metadata": {
        "id": "DU6FyLdEdBsN",
        "colab_type": "code",
        "colab": {}
      },
      "source": [
        "import pandas as pd\n",
        "import numpy as np\n",
        "\n",
        "df = pd.read_csv('/content/drive/My Drive/colab_data/training_human_32x32.csv')"
      ],
      "execution_count": 0,
      "outputs": []
    },
    {
      "cell_type": "code",
      "metadata": {
        "id": "i8i2JYOJthfy",
        "colab_type": "code",
        "colab": {}
      },
      "source": [
        "dataList = []\n",
        "for index, row in df.iterrows(): \n",
        "    mylist = [row.left_eye_center_x, row.left_eye_center_y]\n",
        "    mylist1 = [row.right_eye_center_x, row.right_eye_center_y]\n",
        "    mylist2 = [row.nose_tip_x, row.nose_tip_y]\n",
        "    dataList.append(mylist)\n",
        "    dataList.append(mylist1)\n",
        "    dataList.append(mylist2)\n"
      ],
      "execution_count": 0,
      "outputs": []
    },
    {
      "cell_type": "code",
      "metadata": {
        "id": "HYH3m6O-tjrg",
        "colab_type": "code",
        "outputId": "d2aa336d-7aed-43b6-bd1e-a8d52f90c4a2",
        "colab": {
          "base_uri": "https://localhost:8080/",
          "height": 68
        }
      },
      "source": [
        "i=0\n",
        "new_list=[]\n",
        "while i<len(dataList):\n",
        "  new_list.append(np.array(dataList[i:i+3]).flatten())\n",
        "  i+=3\n",
        "\n",
        "y = np.array(new_list)\n",
        "print(y.shape)\n",
        "y_test=y[0:1713]\n",
        "y_train=y[1713:]\n",
        "print(y_test.shape)\n",
        "print(y_train.shape)\n"
      ],
      "execution_count": 0,
      "outputs": [
        {
          "output_type": "stream",
          "text": [
            "(8560, 6)\n",
            "(1713, 6)\n",
            "(6847, 6)\n"
          ],
          "name": "stdout"
        }
      ]
    },
    {
      "cell_type": "code",
      "metadata": {
        "id": "CEz5gYuftqtC",
        "colab_type": "code",
        "outputId": "968f99b1-253e-4190-84a1-145846bbca31",
        "colab": {
          "base_uri": "https://localhost:8080/",
          "height": 34
        }
      },
      "source": [
        "#my__list = df['image'].tolist()\n",
        "\n",
        "#matrix = []\n",
        "#for i in my__list:\n",
        "    #image_rows = []\n",
        "\n",
        "  #    print(i)    \n",
        "#one_row = my__list[0]\n",
        "   \n",
        "  #mylist  = i.split()\n",
        "   # while mylist != []:\n",
        "#image_rows.append([float(Val) for Val in mylist[:32]])\n",
        "      #    mylist = mylist[32:]\n",
        "   # matrix.append(image_rows)\n",
        "\n",
        "\n",
        "#X = np.array(matrix)\n",
        "#type(X)\n",
        "#print(X)\n",
        "print(y_train)\n"
      ],
      "execution_count": 0,
      "outputs": [
        {
          "output_type": "stream",
          "text": [
            "[  4 255  15 ...  12  20  17]\n"
          ],
          "name": "stdout"
        }
      ]
    },
    {
      "cell_type": "code",
      "metadata": {
        "id": "Tr1ZJeng12CI",
        "colab_type": "code",
        "colab": {}
      },
      "source": [
        "from keras.preprocessing import image"
      ],
      "execution_count": 0,
      "outputs": []
    },
    {
      "cell_type": "code",
      "metadata": {
        "id": "hrvIxvq01_Yi",
        "colab_type": "code",
        "outputId": "78300df9-eb0a-47af-9268-dc947609871f",
        "colab": {
          "base_uri": "https://localhost:8080/",
          "height": 51
        }
      },
      "source": [
        "X_test = []\n",
        "\n",
        "for i in range(0,1713):\n",
        "\n",
        "  Temp_Img=image.load_img('/content/drive/My Drive/colab_data/test_images/' + str(i) + '.jpeg', target_size = (32,32),grayscale=True)\n",
        "  Temp_Img=image.img_to_array(Temp_Img)\n",
        "  X_test.append(Temp_Img)"
      ],
      "execution_count": 0,
      "outputs": [
        {
          "output_type": "stream",
          "text": [
            "/usr/local/lib/python3.6/dist-packages/keras_preprocessing/image/utils.py:98: UserWarning: grayscale is deprecated. Please use color_mode = \"grayscale\"\n",
            "  warnings.warn('grayscale is deprecated. Please use '\n"
          ],
          "name": "stderr"
        }
      ]
    },
    {
      "cell_type": "code",
      "metadata": {
        "id": "Yu1ZeE0r_ZLD",
        "colab_type": "code",
        "colab": {}
      },
      "source": [
        "X_test=np.array(X_test)\n",
        "#print(X_test)\n",
        "#type(X_test)"
      ],
      "execution_count": 0,
      "outputs": []
    },
    {
      "cell_type": "code",
      "metadata": {
        "id": "hLpt6Y3EUa7z",
        "colab_type": "code",
        "outputId": "16131750-de78-4370-ef3c-0611fb2476fd",
        "colab": {
          "base_uri": "https://localhost:8080/",
          "height": 34
        }
      },
      "source": [
        "print (X_test.shape)"
      ],
      "execution_count": 0,
      "outputs": [
        {
          "output_type": "stream",
          "text": [
            "(1713, 32, 32, 1)\n"
          ],
          "name": "stdout"
        }
      ]
    },
    {
      "cell_type": "code",
      "metadata": {
        "id": "I7TdlnZp_wpg",
        "colab_type": "code",
        "outputId": "b166fd53-582f-4fa7-8ff0-148f6d98c7ec",
        "colab": {
          "base_uri": "https://localhost:8080/",
          "height": 51
        }
      },
      "source": [
        "X_train = []\n",
        "\n",
        "for j in range(1714,8559):\n",
        "  \n",
        "  Train_img=image.load_img('/content/drive/My Drive/colab_data/train_images/' +str(j) + '.jpeg', target_size=(32,32),grayscale=True)\n",
        "  Train_img=image.img_to_array(Train_img)\n",
        "  X_train.append(Train_img)"
      ],
      "execution_count": 0,
      "outputs": [
        {
          "output_type": "stream",
          "text": [
            "/usr/local/lib/python3.6/dist-packages/keras_preprocessing/image/utils.py:98: UserWarning: grayscale is deprecated. Please use color_mode = \"grayscale\"\n",
            "  warnings.warn('grayscale is deprecated. Please use '\n"
          ],
          "name": "stderr"
        }
      ]
    },
    {
      "cell_type": "code",
      "metadata": {
        "id": "z0gvjbMvBKB_",
        "colab_type": "code",
        "colab": {}
      },
      "source": [
        "X_train=np.array(X_train)"
      ],
      "execution_count": 0,
      "outputs": []
    },
    {
      "cell_type": "code",
      "metadata": {
        "id": "C9Cpdb7Ccbkl",
        "colab_type": "code",
        "outputId": "fb4e1b30-87ca-4678-d1d9-f265b94664c1",
        "colab": {
          "base_uri": "https://localhost:8080/",
          "height": 34
        }
      },
      "source": [
        "print(X_train.shape)"
      ],
      "execution_count": 0,
      "outputs": [
        {
          "output_type": "stream",
          "text": [
            "(6845, 32, 32, 1)\n"
          ],
          "name": "stdout"
        }
      ]
    },
    {
      "cell_type": "code",
      "metadata": {
        "id": "zXrcaB8fb0KX",
        "colab_type": "code",
        "outputId": "d5e91312-0c07-4e71-ab9b-bbf143b21421",
        "colab": {
          "base_uri": "https://localhost:8080/",
          "height": 34
        }
      },
      "source": [
        "print(X_train.shape)"
      ],
      "execution_count": 0,
      "outputs": [
        {
          "output_type": "stream",
          "text": [
            "(6845, 32, 32, 3)\n"
          ],
          "name": "stdout"
        }
      ]
    },
    {
      "cell_type": "code",
      "metadata": {
        "id": "BA71JoIBAe05",
        "colab_type": "code",
        "colab": {}
      },
      "source": [
        "#def predict(self, X, batch_size=32, verbose=0, check_input_shapes=True):\n",
        "   # if check_input_shapes:\n",
        "#X = standardize_input_data(X, self.input_names,\n",
        "         #                          self.internal_input_shapes,\n",
        "         #                          check_batch_dim=False)\n",
        "   # else:\n",
        "     #   X = standardize_input_data(X, self.input_names,\n",
        "                                  # check_batch_dim=False)"
      ],
      "execution_count": 0,
      "outputs": []
    },
    {
      "cell_type": "code",
      "metadata": {
        "id": "kgj5AGSeh1c-",
        "colab_type": "code",
        "outputId": "cf0ddfce-6f93-408e-a14c-06d72453875c",
        "colab": {
          "base_uri": "https://localhost:8080/",
          "height": 34
        }
      },
      "source": [
        "#X.shape\n",
        "y.shape"
      ],
      "execution_count": 0,
      "outputs": [
        {
          "output_type": "execute_result",
          "data": {
            "text/plain": [
              "(8560, 3, 2)"
            ]
          },
          "metadata": {
            "tags": []
          },
          "execution_count": 32
        }
      ]
    },
    {
      "cell_type": "code",
      "metadata": {
        "id": "yeEEetKVN4lN",
        "colab_type": "code",
        "colab": {}
      },
      "source": [
        "#X = X.reshape((8560, 32 * 32))\n",
        "#X = X.astype('float32') / 255"
      ],
      "execution_count": 0,
      "outputs": []
    },
    {
      "cell_type": "code",
      "metadata": {
        "id": "2_1oQLZZbOCH",
        "colab_type": "code",
        "colab": {}
      },
      "source": [
        "#from sklearn.model_selection import train_test_split\n",
        "\n",
        "#y_train, y_test = train_test_split(y, test_size=0.20, random_state=42)"
      ],
      "execution_count": 0,
      "outputs": []
    },
    {
      "cell_type": "code",
      "metadata": {
        "id": "T15A9cgfv5FR",
        "colab_type": "code",
        "outputId": "30ca4994-1f60-4bb7-f267-5bfbb264ed75",
        "colab": {
          "base_uri": "https://localhost:8080/",
          "height": 442
        }
      },
      "source": [
        ""
      ],
      "execution_count": 0,
      "outputs": [
        {
          "output_type": "stream",
          "text": [
            "[[[21 11]\n",
            "  [10 13]\n",
            "  [16 20]]\n",
            "\n",
            " [[25 13]\n",
            "  [ 6 18]\n",
            "  [20 28]]\n",
            "\n",
            " [[20 12]\n",
            "  [10 13]\n",
            "  [16 18]]\n",
            "\n",
            " ...\n",
            "\n",
            " [[22 13]\n",
            "  [ 9 12]\n",
            "  [16 18]]\n",
            "\n",
            " [[15  5]\n",
            "  [10 20]\n",
            "  [23 16]]\n",
            "\n",
            " [[21 13]\n",
            "  [10 10]\n",
            "  [17 20]]]\n"
          ],
          "name": "stdout"
        }
      ]
    },
    {
      "cell_type": "code",
      "metadata": {
        "id": "67SW1mfTc3j2",
        "colab_type": "code",
        "colab": {}
      },
      "source": [
        "from keras.models import Model,save_model,load_model\n",
        "from keras.layers import Input"
      ],
      "execution_count": 0,
      "outputs": []
    },
    {
      "cell_type": "code",
      "metadata": {
        "id": "ZknCTMTIZJ7T",
        "colab_type": "code",
        "outputId": "82b83499-565c-4e7a-ea91-957579975679",
        "colab": {
          "base_uri": "https://localhost:8080/",
          "height": 442
        }
      },
      "source": [
        "model.summary()"
      ],
      "execution_count": 0,
      "outputs": [
        {
          "output_type": "stream",
          "text": [
            "_________________________________________________________________\n",
            "Layer (type)                 Output Shape              Param #   \n",
            "=================================================================\n",
            "conv2d_44 (Conv2D)           (None, 32, 32, 300)       3000      \n",
            "_________________________________________________________________\n",
            "max_pooling2d_20 (MaxPooling (None, 16, 16, 300)       0         \n",
            "_________________________________________________________________\n",
            "conv2d_45 (Conv2D)           (None, 16, 16, 250)       675250    \n",
            "_________________________________________________________________\n",
            "max_pooling2d_21 (MaxPooling (None, 8, 8, 250)         0         \n",
            "_________________________________________________________________\n",
            "conv2d_46 (Conv2D)           (None, 8, 8, 200)         450200    \n",
            "_________________________________________________________________\n",
            "conv2d_47 (Conv2D)           (None, 8, 8, 150)         270150    \n",
            "_________________________________________________________________\n",
            "conv2d_48 (Conv2D)           (None, 8, 8, 100)         135100    \n",
            "_________________________________________________________________\n",
            "flatten_5 (Flatten)          (None, 6400)              0         \n",
            "_________________________________________________________________\n",
            "dense_7 (Dense)              (None, 500)               3200500   \n",
            "=================================================================\n",
            "Total params: 4,734,200\n",
            "Trainable params: 4,734,200\n",
            "Non-trainable params: 0\n",
            "_________________________________________________________________\n"
          ],
          "name": "stdout"
        }
      ]
    },
    {
      "cell_type": "code",
      "metadata": {
        "id": "K4Cr9GDnfnX2",
        "colab_type": "code",
        "outputId": "c25cfb63-7d47-4e14-d05c-6ae3362c9234",
        "colab": {
          "base_uri": "https://localhost:8080/",
          "height": 353
        }
      },
      "source": [
        "\n",
        "\n",
        "Model.fit(X_train, y_train,\n",
        "          batch_size=128,\n",
        "          epochs=100,\n",
        "          verbose=1,\n",
        "          validation_data=(X_test, y_test))\n",
        "         "
      ],
      "execution_count": 0,
      "outputs": [
        {
          "output_type": "error",
          "ename": "AttributeError",
          "evalue": "ignored",
          "traceback": [
            "\u001b[0;31m---------------------------------------------------------------------------\u001b[0m",
            "\u001b[0;31mAttributeError\u001b[0m                            Traceback (most recent call last)",
            "\u001b[0;32m<ipython-input-278-eb0c263e67d6>\u001b[0m in \u001b[0;36m<module>\u001b[0;34m()\u001b[0m\n\u001b[1;32m      5\u001b[0m           \u001b[0mepochs\u001b[0m\u001b[0;34m=\u001b[0m\u001b[0;36m100\u001b[0m\u001b[0;34m,\u001b[0m\u001b[0;34m\u001b[0m\u001b[0;34m\u001b[0m\u001b[0m\n\u001b[1;32m      6\u001b[0m           \u001b[0mverbose\u001b[0m\u001b[0;34m=\u001b[0m\u001b[0;36m1\u001b[0m\u001b[0;34m,\u001b[0m\u001b[0;34m\u001b[0m\u001b[0;34m\u001b[0m\u001b[0m\n\u001b[0;32m----> 7\u001b[0;31m           validation_data=(X_test, y_test))\n\u001b[0m\u001b[1;32m      8\u001b[0m \u001b[0;34m\u001b[0m\u001b[0m\n",
            "\u001b[0;32m/usr/local/lib/python3.6/dist-packages/keras/engine/training.py\u001b[0m in \u001b[0;36mfit\u001b[0;34m(self, x, y, batch_size, epochs, verbose, callbacks, validation_split, validation_data, shuffle, class_weight, sample_weight, initial_epoch, steps_per_epoch, validation_steps, **kwargs)\u001b[0m\n\u001b[1;32m    946\u001b[0m                              'argument.')\n\u001b[1;32m    947\u001b[0m         \u001b[0;31m# Validate user data.\u001b[0m\u001b[0;34m\u001b[0m\u001b[0;34m\u001b[0m\u001b[0;34m\u001b[0m\u001b[0m\n\u001b[0;32m--> 948\u001b[0;31m         x, y, sample_weights = self._standardize_user_data(\n\u001b[0m\u001b[1;32m    949\u001b[0m             \u001b[0mx\u001b[0m\u001b[0;34m,\u001b[0m \u001b[0my\u001b[0m\u001b[0;34m,\u001b[0m\u001b[0;34m\u001b[0m\u001b[0;34m\u001b[0m\u001b[0m\n\u001b[1;32m    950\u001b[0m             \u001b[0msample_weight\u001b[0m\u001b[0;34m=\u001b[0m\u001b[0msample_weight\u001b[0m\u001b[0;34m,\u001b[0m\u001b[0;34m\u001b[0m\u001b[0;34m\u001b[0m\u001b[0m\n",
            "\u001b[0;31mAttributeError\u001b[0m: 'numpy.ndarray' object has no attribute '_standardize_user_data'"
          ]
        }
      ]
    },
    {
      "cell_type": "code",
      "metadata": {
        "id": "_n3fZI0eYFZj",
        "colab_type": "code",
        "outputId": "54361c2a-cffd-4da7-cd56-cf2f248463bd",
        "colab": {
          "base_uri": "https://localhost:8080/",
          "height": 6120
        }
      },
      "source": [
        "!pip freeze  "
      ],
      "execution_count": 0,
      "outputs": [
        {
          "output_type": "stream",
          "text": [
            "absl-py==0.7.1\n",
            "alabaster==0.7.12\n",
            "albumentations==0.1.12\n",
            "altair==3.0.1\n",
            "astor==0.7.1\n",
            "astropy==3.0.5\n",
            "atari-py==0.1.7\n",
            "atomicwrites==1.3.0\n",
            "attrs==19.1.0\n",
            "audioread==2.1.6\n",
            "autograd==1.2\n",
            "Babel==2.6.0\n",
            "backcall==0.1.0\n",
            "backports.tempfile==1.0\n",
            "backports.weakref==1.0.post1\n",
            "beautifulsoup4==4.6.3\n",
            "bleach==3.1.0\n",
            "bokeh==1.0.4\n",
            "boto==2.49.0\n",
            "boto3==1.9.140\n",
            "botocore==1.12.140\n",
            "Bottleneck==1.2.1\n",
            "branca==0.3.1\n",
            "bs4==0.0.1\n",
            "bz2file==0.98\n",
            "cachetools==3.1.0\n",
            "certifi==2019.3.9\n",
            "cffi==1.12.3\n",
            "chainer==5.4.0\n",
            "chardet==3.0.4\n",
            "Click==7.0\n",
            "cloudpickle==0.6.1\n",
            "cmake==3.12.0\n",
            "colorlover==0.3.0\n",
            "community==1.0.0b1\n",
            "contextlib2==0.5.5\n",
            "convertdate==2.1.3\n",
            "coverage==3.7.1\n",
            "coveralls==0.5\n",
            "crcmod==1.7\n",
            "cufflinks==0.14.6\n",
            "cvxopt==1.2.3\n",
            "cvxpy==1.0.15\n",
            "cycler==0.10.0\n",
            "cymem==2.0.2\n",
            "Cython==0.29.7\n",
            "cytoolz==0.9.0.1\n",
            "daft==0.0.4\n",
            "dask==1.1.5\n",
            "dataclasses==0.6\n",
            "datascience==0.10.6\n",
            "decorator==4.4.0\n",
            "defusedxml==0.6.0\n",
            "dill==0.2.9\n",
            "distributed==1.25.3\n",
            "Django==2.2.1\n",
            "dlib==19.16.0\n",
            "dm-sonnet==1.23\n",
            "docopt==0.6.2\n",
            "docutils==0.14\n",
            "dopamine-rl==1.0.5\n",
            "easydict==1.9\n",
            "ecos==2.0.7.post1\n",
            "editdistance==0.5.3\n",
            "en-core-web-sm==2.0.0\n",
            "entrypoints==0.3\n",
            "enum34==1.1.6\n",
            "ephem==3.7.6.0\n",
            "et-xmlfile==1.0.1\n",
            "fa2==0.3.5\n",
            "fancyimpute==0.4.3\n",
            "fastai==1.0.52\n",
            "fastcache==1.1.0\n",
            "fastdtw==0.3.2\n",
            "fastprogress==0.1.21\n",
            "fastrlock==0.4\n",
            "fbprophet==0.4.post2\n",
            "featuretools==0.4.1\n",
            "filelock==3.0.10\n",
            "fix-yahoo-finance==0.0.22\n",
            "Flask==1.0.2\n",
            "folium==0.8.3\n",
            "future==0.16.0\n",
            "gast==0.2.2\n",
            "GDAL==2.2.2\n",
            "gdown==3.6.4\n",
            "gensim==3.6.0\n",
            "geographiclib==1.49\n",
            "geopy==1.17.0\n",
            "gevent==1.4.0\n",
            "gin-config==0.1.4\n",
            "glob2==0.6\n",
            "google==2.0.2\n",
            "google-api-core==1.10.0\n",
            "google-api-python-client==1.6.7\n",
            "google-auth==1.4.2\n",
            "google-auth-httplib2==0.0.3\n",
            "google-auth-oauthlib==0.3.0\n",
            "google-cloud-bigquery==1.8.1\n",
            "google-cloud-core==0.29.1\n",
            "google-cloud-language==1.0.2\n",
            "google-cloud-storage==1.13.2\n",
            "google-cloud-translate==1.3.3\n",
            "google-colab==1.0.0\n",
            "google-resumable-media==0.3.2\n",
            "googleapis-common-protos==1.5.10\n",
            "googledrivedownloader==0.3\n",
            "graph-nets==1.0.3\n",
            "graphviz==0.10.1\n",
            "greenlet==0.4.15\n",
            "grpcio==1.15.0\n",
            "gspread==3.0.1\n",
            "gspread-dataframe==3.0.2\n",
            "gunicorn==19.9.0\n",
            "gym==0.10.11\n",
            "h5py==2.8.0\n",
            "HeapDict==1.0.0\n",
            "holidays==0.9.10\n",
            "html5lib==1.0.1\n",
            "httpimport==0.5.16\n",
            "httplib2==0.11.3\n",
            "humanize==0.5.1\n",
            "hyperopt==0.1.2\n",
            "ideep4py==2.0.0.post3\n",
            "idna==2.8\n",
            "image==1.5.27\n",
            "imageio==2.4.1\n",
            "imagesize==1.1.0\n",
            "imbalanced-learn==0.4.3\n",
            "imblearn==0.0\n",
            "imgaug==0.2.8\n",
            "imutils==0.5.2\n",
            "inflect==2.1.0\n",
            "intel-openmp==2019.0\n",
            "intervaltree==2.1.0\n",
            "ipykernel==4.6.1\n",
            "ipython==5.5.0\n",
            "ipython-genutils==0.2.0\n",
            "ipython-sql==0.3.9\n",
            "ipywidgets==7.4.2\n",
            "itsdangerous==1.1.0\n",
            "jdcal==1.4.1\n",
            "jedi==0.13.3\n",
            "jieba==0.39\n",
            "Jinja2==2.10.1\n",
            "jmespath==0.9.4\n",
            "joblib==0.12.5\n",
            "jpeg4py==0.1.4\n",
            "jsonschema==2.6.0\n",
            "jupyter==1.0.0\n",
            "jupyter-client==5.2.4\n",
            "jupyter-console==6.0.0\n",
            "jupyter-core==4.4.0\n",
            "kaggle==1.5.3\n",
            "kapre==0.1.3.1\n",
            "Keras==2.2.4\n",
            "Keras-Applications==1.0.7\n",
            "Keras-Preprocessing==1.0.9\n",
            "keras-vis==0.4.1\n",
            "kiwisolver==1.1.0\n",
            "knnimpute==0.1.0\n",
            "librosa==0.6.3\n",
            "lightgbm==2.2.3\n",
            "llvmlite==0.28.0\n",
            "lmdb==0.94\n",
            "lucid==0.3.8\n",
            "lunardate==0.2.0\n",
            "lxml==4.2.6\n",
            "magenta==0.3.19\n",
            "Markdown==3.1\n",
            "MarkupSafe==1.1.1\n",
            "matplotlib==3.0.3\n",
            "matplotlib-venn==0.11.5\n",
            "mesh-tensorflow==0.0.5\n",
            "mido==1.2.6\n",
            "mir-eval==0.5\n",
            "missingno==0.4.1\n",
            "mistune==0.8.4\n",
            "mkl==2019.0\n",
            "mlxtend==0.14.0\n",
            "mock==2.0.0\n",
            "more-itertools==7.0.0\n",
            "moviepy==0.2.3.5\n",
            "mpi4py==3.0.1\n",
            "mpmath==1.1.0\n",
            "msgpack==0.5.6\n",
            "msgpack-numpy==0.4.3.2\n",
            "multiprocess==0.70.7\n",
            "multitasking==0.0.7\n",
            "murmurhash==1.0.2\n",
            "music21==5.5.0\n",
            "natsort==5.5.0\n",
            "nbconvert==5.5.0\n",
            "nbformat==4.4.0\n",
            "networkx==2.3\n",
            "nibabel==2.3.3\n",
            "nltk==3.2.5\n",
            "nose==1.3.7\n",
            "notebook==5.2.2\n",
            "np-utils==0.5.10.0\n",
            "numba==0.40.1\n",
            "numexpr==2.6.9\n",
            "numpy==1.16.3\n",
            "nvidia-ml-py3==7.352.0\n",
            "oauth2client==4.1.3\n",
            "oauthlib==3.0.1\n",
            "okgrade==0.4.3\n",
            "olefile==0.46\n",
            "opencv-contrib-python==3.4.3.18\n",
            "opencv-python==3.4.5.20\n",
            "openpyxl==2.5.9\n",
            "osqp==0.5.0\n",
            "packaging==19.0\n",
            "pandas==0.24.2\n",
            "pandas-datareader==0.7.0\n",
            "pandas-gbq==0.4.1\n",
            "pandas-profiling==1.4.1\n",
            "pandocfilters==1.4.2\n",
            "parso==0.4.0\n",
            "pathlib==1.0.1\n",
            "patsy==0.5.1\n",
            "pbr==5.2.0\n",
            "pexpect==4.7.0\n",
            "pickleshare==0.7.5\n",
            "Pillow==4.3.0\n",
            "pip-tools==3.6.1\n",
            "plac==0.9.6\n",
            "plotly==3.6.1\n",
            "pluggy==0.7.1\n",
            "portpicker==1.2.0\n",
            "prefetch-generator==1.0.1\n",
            "preshed==2.0.1\n",
            "pretty-midi==0.2.8\n",
            "prettytable==0.7.2\n",
            "progressbar2==3.38.0\n",
            "prometheus-client==0.6.0\n",
            "promise==2.2.1\n",
            "prompt-toolkit==1.0.16\n",
            "protobuf==3.7.1\n",
            "psutil==5.4.8\n",
            "psycopg2==2.7.6.1\n",
            "ptyprocess==0.6.0\n",
            "py==1.8.0\n",
            "pyasn1==0.4.5\n",
            "pyasn1-modules==0.2.5\n",
            "pycocotools==2.0.0\n",
            "pycparser==2.19\n",
            "pydot==1.3.0\n",
            "pydot-ng==2.0.0\n",
            "pydotplus==2.0.2\n",
            "pyemd==0.5.1\n",
            "pyglet==1.3.2\n",
            "Pygments==2.1.3\n",
            "pygobject==3.26.1\n",
            "pymc3==3.6\n",
            "pymongo==3.8.0\n",
            "pymystem3==0.2.0\n",
            "PyOpenGL==3.1.0\n",
            "pyparsing==2.4.0\n",
            "pyrsistent==0.15.1\n",
            "pysndfile==1.3.2\n",
            "PySocks==1.6.8\n",
            "pystan==2.19.0.0\n",
            "pytest==3.6.4\n",
            "python-apt==1.6.3+ubuntu1\n",
            "python-chess==0.23.11\n",
            "python-dateutil==2.5.3\n",
            "python-louvain==0.13\n",
            "python-rtmidi==1.3.0\n",
            "python-slugify==3.0.2\n",
            "python-utils==2.3.0\n",
            "pytz==2018.9\n",
            "PyWavelets==1.0.3\n",
            "PyYAML==3.13\n",
            "pyzmq==17.0.0\n",
            "qtconsole==4.4.4\n",
            "regex==2018.1.10\n",
            "requests==2.21.0\n",
            "requests-oauthlib==1.2.0\n",
            "resampy==0.2.1\n",
            "retrying==1.3.3\n",
            "rpy2==2.9.5\n",
            "rsa==4.0\n",
            "s3fs==0.2.1\n",
            "s3transfer==0.2.0\n",
            "scikit-image==0.14.2\n",
            "scikit-learn==0.20.3\n",
            "scipy==1.2.1\n",
            "screen-resolution-extra==0.0.0\n",
            "scs==2.1.0\n",
            "seaborn==0.9.0\n",
            "Send2Trash==1.5.0\n",
            "setuptools-git==1.2\n",
            "Shapely==1.6.4.post2\n",
            "simplegeneric==0.8.1\n",
            "six==1.12.0\n",
            "sklearn==0.0\n",
            "smart-open==1.8.3\n",
            "snowballstemmer==1.2.1\n",
            "sortedcontainers==2.1.0\n",
            "spacy==2.0.18\n",
            "Sphinx==1.8.5\n",
            "sphinxcontrib-websupport==1.1.0\n",
            "SQLAlchemy==1.3.3\n",
            "sqlparse==0.3.0\n",
            "stable-baselines==2.2.1\n",
            "statsmodels==0.9.0\n",
            "sympy==1.1.1\n",
            "tables==3.4.4\n",
            "tabulate==0.8.3\n",
            "tblib==1.3.2\n",
            "tensor2tensor==1.11.0\n",
            "tensorboard==1.13.1\n",
            "tensorboardcolab==0.0.22\n",
            "tensorflow==1.13.1\n",
            "tensorflow-estimator==1.13.0\n",
            "tensorflow-hub==0.4.0\n",
            "tensorflow-metadata==0.13.0\n",
            "tensorflow-probability==0.6.0\n",
            "termcolor==1.1.0\n",
            "terminado==0.8.2\n",
            "testpath==0.4.2\n",
            "text-unidecode==1.2\n",
            "textblob==0.15.3\n",
            "textgenrnn==1.4.1\n",
            "tfds-nightly==1.0.2.dev201905010105\n",
            "tflearn==0.3.2\n",
            "Theano==1.0.4\n",
            "thinc==6.12.1\n",
            "toolz==0.9.0\n",
            "torch==1.1.0\n",
            "torchsummary==1.5.1\n",
            "torchtext==0.3.1\n",
            "torchvision==0.2.2.post3\n",
            "tornado==4.5.3\n",
            "tqdm==4.28.1\n",
            "traitlets==4.3.2\n",
            "tweepy==3.6.0\n",
            "typing==3.6.6\n",
            "tzlocal==1.5.1\n",
            "ujson==1.35\n",
            "umap-learn==0.3.8\n",
            "uritemplate==3.0.0\n",
            "urllib3==1.24.2\n",
            "vega-datasets==0.7.0\n",
            "wcwidth==0.1.7\n",
            "webencodings==0.5.1\n",
            "Werkzeug==0.15.2\n",
            "widgetsnbextension==3.4.2\n",
            "wordcloud==1.5.0\n",
            "wrapt==1.10.11\n",
            "xarray==0.11.3\n",
            "xgboost==0.82\n",
            "xkit==0.0.0\n",
            "xlrd==1.1.0\n",
            "xlwt==1.3.0\n",
            "yellowbrick==0.9.1\n",
            "zict==0.1.4\n",
            "zmq==0.0.0\n"
          ],
          "name": "stdout"
        }
      ]
    },
    {
      "cell_type": "code",
      "metadata": {
        "id": "Zn8M9VfoiCz0",
        "colab_type": "code",
        "colab": {}
      },
      "source": [
        ""
      ],
      "execution_count": 0,
      "outputs": []
    }
  ]
}